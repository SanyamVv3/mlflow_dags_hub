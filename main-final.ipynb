{
 "cells": [
  {
   "cell_type": "code",
   "execution_count": 1,
   "id": "b1cef656",
   "metadata": {
    "execution": {
     "iopub.execute_input": "2025-06-17T06:48:00.650203Z",
     "iopub.status.busy": "2025-06-17T06:48:00.648739Z",
     "iopub.status.idle": "2025-06-17T06:48:05.614742Z",
     "shell.execute_reply": "2025-06-17T06:48:05.613265Z"
    },
    "papermill": {
     "duration": 4.973486,
     "end_time": "2025-06-17T06:48:05.616544",
     "exception": true,
     "start_time": "2025-06-17T06:48:00.643058",
     "status": "failed"
    },
    "tags": []
   },
   "outputs": [
    {
     "ename": "ModuleNotFoundError",
     "evalue": "No module named 'mlflow'",
     "output_type": "error",
     "traceback": [
      "\u001b[0;31m---------------------------------------------------------------------------\u001b[0m",
      "\u001b[0;31mModuleNotFoundError\u001b[0m                       Traceback (most recent call last)",
      "\u001b[0;32m/tmp/ipykernel_13/952130547.py\u001b[0m in \u001b[0;36m<cell line: 0>\u001b[0;34m()\u001b[0m\n\u001b[1;32m     13\u001b[0m \u001b[0;32mfrom\u001b[0m \u001b[0msklearn\u001b[0m\u001b[0;34m.\u001b[0m\u001b[0mpipeline\u001b[0m \u001b[0;32mimport\u001b[0m \u001b[0mPipeline\u001b[0m\u001b[0;34m\u001b[0m\u001b[0;34m\u001b[0m\u001b[0m\n\u001b[1;32m     14\u001b[0m \u001b[0;32mfrom\u001b[0m \u001b[0mxgboost\u001b[0m \u001b[0;32mimport\u001b[0m \u001b[0mXGBClassifier\u001b[0m\u001b[0;34m\u001b[0m\u001b[0;34m\u001b[0m\u001b[0m\n\u001b[0;32m---> 15\u001b[0;31m \u001b[0;32mimport\u001b[0m \u001b[0mmlflow\u001b[0m\u001b[0;34m\u001b[0m\u001b[0;34m\u001b[0m\u001b[0m\n\u001b[0m\u001b[1;32m     16\u001b[0m \u001b[0;32mimport\u001b[0m \u001b[0moptuna\u001b[0m\u001b[0;34m\u001b[0m\u001b[0;34m\u001b[0m\u001b[0m\n",
      "\u001b[0;31mModuleNotFoundError\u001b[0m: No module named 'mlflow'"
     ]
    }
   ],
   "source": [
    "import warnings\n",
    "warnings.filterwarnings(\"ignore\")\n",
    "import pandas as pd \n",
    "import numpy as np \n",
    "import matplotlib.pyplot as plt \n",
    "import seaborn as sns\n",
    "import pickle\n",
    "# import umap\n",
    "from sklearn.preprocessing import StandardScaler, RobustScaler, OrdinalEncoder, LabelEncoder, OneHotEncoder\n",
    "from sklearn.metrics import confusion_matrix, ConfusionMatrixDisplay, accuracy_score, roc_auc_score, precision_score, recall_score\n",
    "from sklearn.model_selection import cross_val_score, train_test_split, StratifiedKFold\n",
    "from sklearn.compose import ColumnTransformer\n",
    "from sklearn.pipeline import Pipeline\n",
    "from xgboost import XGBClassifier\n",
    "import mlflow\n",
    "import optuna\n"
   ]
  },
  {
   "cell_type": "code",
   "execution_count": null,
   "id": "e1411e48",
   "metadata": {
    "papermill": {
     "duration": null,
     "end_time": null,
     "exception": null,
     "start_time": null,
     "status": "pending"
    },
    "tags": []
   },
   "outputs": [],
   "source": [
    "import dagshub\n",
    "dagshub.init(repo_owner='SanyamVv3', repo_name='mlflow_dags_hub', mlflow=True)"
   ]
  },
  {
   "cell_type": "code",
   "execution_count": null,
   "id": "d5223e52",
   "metadata": {
    "papermill": {
     "duration": null,
     "end_time": null,
     "exception": null,
     "start_time": null,
     "status": "pending"
    },
    "tags": []
   },
   "outputs": [],
   "source": [
    "df = pd.read_csv('diabetes_prediction_dataset.csv')"
   ]
  },
  {
   "cell_type": "code",
   "execution_count": null,
   "id": "a90dcb27",
   "metadata": {
    "papermill": {
     "duration": null,
     "end_time": null,
     "exception": null,
     "start_time": null,
     "status": "pending"
    },
    "tags": []
   },
   "outputs": [],
   "source": [
    "cat_features = ['gender','smoking_history']\n",
    "\n",
    "# Binary features\n",
    "bin_features = ['hypertension','heart_disease']\n",
    "\n",
    "# Numerical features\n",
    "num_features = df.drop(columns=cat_features + bin_features + ['diabetes']).columns.tolist()\n",
    "\n",
    "\n",
    "# Target variable\n",
    "target = 'diabetes'"
   ]
  },
  {
   "cell_type": "code",
   "execution_count": null,
   "id": "90860f79",
   "metadata": {
    "papermill": {
     "duration": null,
     "end_time": null,
     "exception": null,
     "start_time": null,
     "status": "pending"
    },
    "tags": []
   },
   "outputs": [],
   "source": [
    "X = df.drop(columns=['diabetes'])\n",
    "\n",
    "# Target\n",
    "y = df['diabetes']"
   ]
  },
  {
   "cell_type": "code",
   "execution_count": null,
   "id": "ba85dcdd",
   "metadata": {
    "papermill": {
     "duration": null,
     "end_time": null,
     "exception": null,
     "start_time": null,
     "status": "pending"
    },
    "tags": []
   },
   "outputs": [],
   "source": [
    "# Creating the folds for the k fold cross-validation\n",
    "kfold = StratifiedKFold(n_splits=5 , shuffle=True, random_state=101)"
   ]
  },
  {
   "cell_type": "code",
   "execution_count": null,
   "id": "3a2b24b7",
   "metadata": {
    "papermill": {
     "duration": null,
     "end_time": null,
     "exception": null,
     "start_time": null,
     "status": "pending"
    },
    "tags": []
   },
   "outputs": [],
   "source": [
    "column_transformer = ColumnTransformer(\n",
    "    [\n",
    "        ('num','passthrough',num_features),\n",
    "        ('cat',OrdinalEncoder(),cat_features),\n",
    "        ('bin','passthrough', bin_features)\n",
    "    ],\n",
    "    remainder='drop',\n",
    "    verbose_feature_names_out=True\n",
    ")"
   ]
  },
  {
   "cell_type": "code",
   "execution_count": null,
   "id": "0d42ed89",
   "metadata": {
    "papermill": {
     "duration": null,
     "end_time": null,
     "exception": null,
     "start_time": null,
     "status": "pending"
    },
    "tags": []
   },
   "outputs": [],
   "source": [
    "def create_classification_pipeline(classifier_model):\n",
    "\n",
    "    pipeline = Pipeline(\n",
    "        [\n",
    "            ('transformer',column_transformer),\n",
    "            ('classifier',classifier_model)\n",
    "        ]\n",
    "    )\n",
    "    return pipeline"
   ]
  },
  {
   "cell_type": "code",
   "execution_count": null,
   "id": "251e424f",
   "metadata": {
    "papermill": {
     "duration": null,
     "end_time": null,
     "exception": null,
     "start_time": null,
     "status": "pending"
    },
    "tags": []
   },
   "outputs": [],
   "source": [
    "def flatten_array(predictions):\n",
    "    flat_array = []\n",
    "    for array in predictions:\n",
    "        for item in array:\n",
    "            flat_array.append(item)\n",
    "    return flat_array"
   ]
  },
  {
   "cell_type": "code",
   "execution_count": null,
   "id": "97fbff52",
   "metadata": {
    "papermill": {
     "duration": null,
     "end_time": null,
     "exception": null,
     "start_time": null,
     "status": "pending"
    },
    "tags": []
   },
   "outputs": [],
   "source": [
    "def objective(trial):\n",
    "\n",
    "    # with mlflow.start_run(nested=True):\n",
    "    with mlflow.start_run() :\n",
    "        mlflow.xgboost.autolog()\n",
    "        param = {\n",
    "            \"verbosity\": 0,\n",
    "\n",
    "            \"objective\": \"binary:logistic\",\n",
    "\n",
    "            # defines booster, gblinear for linear functions.\n",
    "            \"booster\": \"gbtree\",\n",
    "\n",
    "            # L2 regularization weight.\n",
    "            \"reg_lambda\": trial.suggest_float(\"reg_lambda\", 1e-4, 1.0, log=True),\n",
    "\n",
    "            # L1 regularization weight.\n",
    "            \"reg_alpha\": trial.suggest_float(\"reg_alpha\", 1e-4, 1.0, log=True),\n",
    "\n",
    "            # sampling ratio for training data.\n",
    "            \"subsample\": trial.suggest_float(\"subsample\", 0.5, 1.0,step=0.1),\n",
    "\n",
    "            # sampling according to each tree.\n",
    "            \"colsample_bytree\": trial.suggest_float(\"colsample_bytree\", 0.2, 1.0),\n",
    "\n",
    "            \"n_estimators\": trial.suggest_int(\"n_estimators\",100,800,step=50),\n",
    "\n",
    "            # maximum depth of the tree, signifies complexity of the tree.\n",
    "            \"max_depth\":trial.suggest_int(\"max_depth\", 2, 8, step=2),\n",
    "\n",
    "            # minimum child weight, larger the term more conservative the tree.\n",
    "            'min_child_weight':trial.suggest_int(\"min_child_weight\", 2, 30),\n",
    "\n",
    "            \"eta\":trial.suggest_float(\"eta\", 1e-3, 1.0, log=True),\n",
    "\n",
    "            # defines how selective algorithm is.\n",
    "            \"gamma\":trial.suggest_float(\"gamma\", 1e-3, 1.0, log=True),\n",
    "\n",
    "            \"grow_policy\":trial.suggest_categorical(\"grow_policy\", [\"depthwise\", \"lossguide\"]),\n",
    "\n",
    "            \"scale_pos_weight\":trial.suggest_float(\"scale_pos_weight\",1,10)\n",
    "\n",
    "        }\n",
    "\n",
    "        true_positives = []\n",
    "        false_positives = []\n",
    "        true_negatives = []\n",
    "        false_negatives = []\n",
    "        predictions_bin = []\n",
    "        predictions_proba = []\n",
    "        y_true = []\n",
    "\n",
    "        for i, (train_index, test_index) in enumerate(kfold.split(X,y)):\n",
    "\n",
    "            X_train, y_train = X.loc[train_index], y.loc[train_index]\n",
    "            X_test, y_test = X.loc[test_index], y.loc[test_index]\n",
    "\n",
    "            classifer_model = XGBClassifier(**param, random_state=101)\n",
    "            pipeline_classifier = create_classification_pipeline(classifer_model)\n",
    "\n",
    "            pipeline_classifier.fit(X_train, y_train)\n",
    "            mlflow.log_models(model=classifer_model)\n",
    "\n",
    "            binary_predictions = pipeline_classifier.predict(X_test)\n",
    "            proba_predictions = pipeline_classifier.predict_proba(X_test)\n",
    "\n",
    "            predictions_bin.append(binary_predictions)\n",
    "            predictions_proba.append(proba_predictions[:,1])\n",
    "            y_true.append(y_test.to_numpy())\n",
    "\n",
    "            fold_confusion_matrix = confusion_matrix(y_true=y_test, y_pred=binary_predictions)\n",
    "            true_positives.append(fold_confusion_matrix[1,1])\n",
    "            true_negatives.append(fold_confusion_matrix[0,0])\n",
    "            false_positives.append(fold_confusion_matrix[0,1])\n",
    "            false_negatives.append(fold_confusion_matrix[1,0])\n",
    "\n",
    "        predictions_bin = flatten_array(predictions_bin)\n",
    "        predictions_proba = flatten_array(predictions_proba)\n",
    "        y_true = flatten_array(y_true)\n",
    "\n",
    "        accuracy = accuracy_score(y_true=y_true, y_pred=predictions_bin)\n",
    "        recall = recall_score(y_true=y_true, y_pred=predictions_bin)\n",
    "        precision = precision_score(y_true=y_true, y_pred=predictions_bin)\n",
    "        roc_auc = roc_auc_score(y_true=y_true, y_score=predictions_proba)\n",
    "\n",
    "        mlflow.log_metric('accuracy',accuracy)\n",
    "        mlflow.log_metric('recall',recall)\n",
    "        mlflow.log_metric('precision',precision)\n",
    "        mlflow.log_metric('roc_auc',roc_auc)\n",
    "        mlflow.log_param('params',param)\n",
    "        return roc_auc\n",
    "        "
   ]
  },
  {
   "cell_type": "code",
   "execution_count": null,
   "id": "5ec71c45",
   "metadata": {
    "papermill": {
     "duration": null,
     "end_time": null,
     "exception": null,
     "start_time": null,
     "status": "pending"
    },
    "tags": []
   },
   "outputs": [],
   "source": [
    "import os\n",
    "\n",
    "study = None\n",
    "def run_experiments():\n",
    "\n",
    "    mlflow.set_experiment(\"XGBoost_tuning_final_version_3\")\n",
    "    mlflow.set_tracking_uri(\"http://127.0.0.1:5000\")\n",
    "    \n",
    "    study = optuna.create_study(direction='maximize')\n",
    "    study.optimize(objective, n_trials=10)\n",
    "\n",
    "    print(\"Number of finished trials: \", len(study.trials))\n",
    "    print(\"Best trial:\")\n",
    "    trial = study.best_trial\n",
    "\n",
    "    print(\"  Value: {}\".format(trial.value))\n",
    "    print(\"  Params: \")\n",
    "    for key, value in trial.params.items():\n",
    "        print(\"    {}: {}\".format(key, value))     \n",
    "\n",
    "run_experiments()"
   ]
  },
  {
   "cell_type": "markdown",
   "id": "b50ed25f",
   "metadata": {
    "papermill": {
     "duration": null,
     "end_time": null,
     "exception": null,
     "start_time": null,
     "status": "pending"
    },
    "tags": []
   },
   "source": []
  },
  {
   "cell_type": "code",
   "execution_count": null,
   "id": "a0251a52",
   "metadata": {
    "papermill": {
     "duration": null,
     "end_time": null,
     "exception": null,
     "start_time": null,
     "status": "pending"
    },
    "tags": []
   },
   "outputs": [],
   "source": [
    "param = {\n",
    "            \"verbosity\": 0,\n",
    "\n",
    "            \"objective\": \"binary:logistic\",\n",
    "\n",
    "            # defines booster, gblinear for linear functions.\n",
    "            \"booster\": \"gbtree\",\n",
    "\n",
    "            # L2 regularization weight.\n",
    "            \"reg_lambda\":0.22701201370251145,\n",
    "\n",
    "            # L1 regularization weight.\n",
    "            \"reg_alpha\": 0.0001517102271587763,\n",
    "\n",
    "            # sampling ratio for training data.\n",
    "            \"subsample\": 0.9,\n",
    "\n",
    "            # sampling according to each tree.\n",
    "            \"colsample_bytree\": 0.42226493114808444,\n",
    "\n",
    "            \"n_estimators\": 750,\n",
    "\n",
    "            # maximum depth of the tree, signifies complexity of the tree.\n",
    "            \"max_depth\":6,\n",
    "\n",
    "            # minimum child weight, larger the term more conservative the tree.\n",
    "            'min_child_weight':8,\n",
    "\n",
    "            \"eta\":0.010571498549826279,\n",
    "\n",
    "            # defines how selective algorithm is.\n",
    "            \"gamma\":0.0012338402450844555,\n",
    "\n",
    "            \"grow_policy\":'lossguide',\n",
    "\n",
    "            \"scale_pos_weight\":9.98131994138987\n",
    "\n",
    "        }"
   ]
  },
  {
   "cell_type": "code",
   "execution_count": null,
   "id": "973fe868",
   "metadata": {
    "papermill": {
     "duration": null,
     "end_time": null,
     "exception": null,
     "start_time": null,
     "status": "pending"
    },
    "tags": []
   },
   "outputs": [],
   "source": [
    "mlflow.set_experiment(\"Final_model\")\n",
    "mlflow.set_tracking_uri(\"http://127.0.0.1:5000\")\n",
    "classifer_model = XGBClassifier(**param, random_state=101)\n",
    "pipeline_classifier = create_classification_pipeline(classifer_model)\n",
    "\n",
    "pipeline_classifier.fit(X, y)\n",
    "mlflow.xgboost.log_models(xgb_model=classifer_model)\n",
    "\n",
    "binary_predictions = pipeline_classifier.predict(X)\n",
    "proba_predictions = pipeline_classifier.predict_proba(X)\n",
    "\n",
    "accuracy = accuracy_score(y_true=y, y_pred=binary_predictions)\n",
    "recall = recall_score(y_true=y, y_pred=binary_predictions)\n",
    "precision = precision_score(y_true=y, y_pred=binary_predictions)\n",
    "roc_auc = roc_auc_score(y_true=y, y_score=proba_predictions)\n",
    "\n"
   ]
  },
  {
   "cell_type": "code",
   "execution_count": null,
   "id": "f15dbe68",
   "metadata": {
    "papermill": {
     "duration": null,
     "end_time": null,
     "exception": null,
     "start_time": null,
     "status": "pending"
    },
    "tags": []
   },
   "outputs": [],
   "source": []
  },
  {
   "cell_type": "code",
   "execution_count": null,
   "id": "d50092c3",
   "metadata": {
    "papermill": {
     "duration": null,
     "end_time": null,
     "exception": null,
     "start_time": null,
     "status": "pending"
    },
    "tags": []
   },
   "outputs": [],
   "source": [
    "mlflow.log_metric('accuracy',accuracy)\n",
    "mlflow.log_metric('recall',recall)\n",
    "mlflow.log_metric('precision',precision)\n",
    "mlflow.log_metric('roc_auc',roc_auc)\n",
    "mlflow.log_param('params',param)"
   ]
  }
 ],
 "metadata": {
  "kernelspec": {
   "display_name": "Python 3 (ipykernel)",
   "language": "python",
   "name": "python3"
  },
  "language_info": {
   "codemirror_mode": {
    "name": "ipython",
    "version": 3
   },
   "file_extension": ".py",
   "mimetype": "text/x-python",
   "name": "python",
   "nbconvert_exporter": "python",
   "pygments_lexer": "ipython3",
   "version": "3.11.11"
  },
  "papermill": {
   "default_parameters": {},
   "duration": 10.900316,
   "end_time": "2025-06-17T06:48:06.343273",
   "environment_variables": {},
   "exception": true,
   "input_path": "__notebook__.ipynb",
   "output_path": "__notebook__.ipynb",
   "parameters": {},
   "start_time": "2025-06-17T06:47:55.442957",
   "version": "2.6.0"
  }
 },
 "nbformat": 4,
 "nbformat_minor": 5
}
